{
 "cells": [
  {
   "cell_type": "code",
   "execution_count": 2,
   "metadata": {},
   "outputs": [
    {
     "name": "stdout",
     "output_type": "stream",
     "text": [
      "Predicted keyword: down\n"
     ]
    }
   ],
   "source": [
    "import requests\n",
    "\n",
    "# server url\n",
    "URL = \"http://127.0.0.1:5000/predict\"\n",
    "\n",
    "\n",
    "# audio file we'd like to send for predicting keyword\n",
    "FILE_PATH = \"test/down_sound.wav\"\n",
    "\n",
    "\n",
    "if __name__ == \"__main__\":\n",
    "\n",
    "    # open files\n",
    "    file = open(FILE_PATH, \"rb\")\n",
    "\n",
    "    # package stuff to send and perform POST request\n",
    "    values = {\"file\": (FILE_PATH, file, \"audio/wav\")}\n",
    "    response = requests.post(URL, files=values)\n",
    "    data = response.json()\n",
    "\n",
    "    print(\"Predicted keyword: {}\".format(data[\"keyword\"]))\n",
    "\n",
    "\n"
   ]
  },
  {
   "cell_type": "code",
   "execution_count": null,
   "metadata": {},
   "outputs": [],
   "source": []
  }
 ],
 "metadata": {
  "kernelspec": {
   "display_name": "Python 3",
   "language": "python",
   "name": "python3"
  },
  "language_info": {
   "codemirror_mode": {
    "name": "ipython",
    "version": 3
   },
   "file_extension": ".py",
   "mimetype": "text/x-python",
   "name": "python",
   "nbconvert_exporter": "python",
   "pygments_lexer": "ipython3",
   "version": "3.7.3"
  }
 },
 "nbformat": 4,
 "nbformat_minor": 2
}
