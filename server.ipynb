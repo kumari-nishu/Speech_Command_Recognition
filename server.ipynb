{
 "cells": [
  {
   "cell_type": "code",
   "execution_count": null,
   "metadata": {},
   "outputs": [
    {
     "name": "stdout",
     "output_type": "stream",
     "text": [
      " * Serving Flask app \"__main__\" (lazy loading)\n",
      " * Environment: production\n",
      "   WARNING: This is a development server. Do not use it in a production deployment.\n",
      "   Use a production WSGI server instead.\n",
      " * Debug mode: off\n"
     ]
    },
    {
     "name": "stderr",
     "output_type": "stream",
     "text": [
      " * Running on http://127.0.0.1:5000/ (Press CTRL+C to quit)\n",
      "127.0.0.1 - - [13/Jan/2021 19:42:20] \"\u001b[37mPOST /predict HTTP/1.1\u001b[0m\" 200 -\n",
      "127.0.0.1 - - [13/Jan/2021 19:42:32] \"\u001b[37mPOST /predict HTTP/1.1\u001b[0m\" 200 -\n"
     ]
    }
   ],
   "source": [
    "import random\n",
    "import os\n",
    "from flask import Flask, request, jsonify\n",
    "from keyword_spotting_service import Keyword_Spotting_Service\n",
    "\n",
    "\n",
    "# instantiate flask app\n",
    "app = Flask(__name__)\n",
    "\n",
    "\n",
    "@app.route(\"/predict\", methods=[\"POST\"])\n",
    "def predict():\n",
    "\t\"\"\"Endpoint to predict keyword\n",
    "    :return (json): This endpoint returns a json file with the following format:\n",
    "        {\n",
    "            \"keyword\": \"down\"\n",
    "        }\n",
    "\t\"\"\"\n",
    "\n",
    "\t# get file from POST request and save it\n",
    "\taudio_file = request.files[\"file\"]\n",
    "\tfile_name = str(random.randint(0, 100000))\n",
    "\taudio_file.save(file_name)\n",
    "\n",
    "\t# instantiate keyword spotting service singleton and get prediction\n",
    "\tkss = Keyword_Spotting_Service()\n",
    "\tpredicted_keyword = kss.predict(file_name)\n",
    "\n",
    "\t# we don't need the audio file any more - let's delete it!\n",
    "\tos.remove(file_name)\n",
    "\n",
    "\t# send back result as a json file\n",
    "\tresult = {\"keyword\": predicted_keyword}\n",
    "\treturn jsonify(result)\n",
    "\n",
    "\n",
    "if __name__ == \"__main__\":\n",
    "    app.run(debug=False)"
   ]
  },
  {
   "cell_type": "code",
   "execution_count": null,
   "metadata": {},
   "outputs": [],
   "source": []
  }
 ],
 "metadata": {
  "kernelspec": {
   "display_name": "Python 3",
   "language": "python",
   "name": "python3"
  },
  "language_info": {
   "codemirror_mode": {
    "name": "ipython",
    "version": 3
   },
   "file_extension": ".py",
   "mimetype": "text/x-python",
   "name": "python",
   "nbconvert_exporter": "python",
   "pygments_lexer": "ipython3",
   "version": "3.7.3"
  }
 },
 "nbformat": 4,
 "nbformat_minor": 2
}
